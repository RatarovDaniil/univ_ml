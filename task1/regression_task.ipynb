{
 "cells": [
  {
   "cell_type": "markdown",
   "metadata": {},
   "source": [
    "# Data discription\n",
    "\n",
    "1. __FIRMCOST__ - The measure of the firm’s risk management cost effectiveness, defined as total property and casualty premiums and uninsured losses as a percentage of total assets.\n",
    "\n",
    "1. __ASSUME__ - Per occurrence retention amount as a percentage of total assets.\n",
    "\n",
    "1. __SIZELOG__ - Logarithm of total assets.\n",
    "\n",
    "1. __INDCOST__ - A measure of the firm’s industry risk.\n",
    "\n",
    "1. __CENTRAL__ - A measure of the importance of the local managers in choosing the amount of risk to be retained.\n",
    "\n",
    "1. __SOPH__ - A measure of the degree of importance in using analytical tools."
   ]
  },
  {
   "cell_type": "code",
   "execution_count": 3,
   "metadata": {},
   "outputs": [],
   "source": [
    "import pandas as pd\n",
    "import numpy as np"
   ]
  },
  {
   "cell_type": "markdown",
   "metadata": {},
   "source": [
    "# Display data statistics"
   ]
  },
  {
   "cell_type": "code",
   "execution_count": 4,
   "metadata": {},
   "outputs": [],
   "source": [
    "def corr(df, col_names):\n",
    "    '''\n",
    "        compute correlation matrix\n",
    "    '''\n",
    "    rs = np.random.RandomState(0)\n",
    "    df = pd.DataFrame(rs.rand(len(col_names), len(col_names)), columns=col_names)\n",
    "    corr = df.corr()\n",
    "    corr = corr.style.background_gradient(cmap='coolwarm').set_precision(2)\n",
    "    \n",
    "    return corr"
   ]
  },
  {
   "cell_type": "code",
   "execution_count": 5,
   "metadata": {},
   "outputs": [],
   "source": [
    "# define path to RiskSurvey data\n",
    "PATH_TO_DATA = 'regression-data/data-actuarial/RiskSurvey.csv'\n",
    "\n",
    "# creating dataframe\n",
    "df = pd.read_csv(PATH_TO_DATA)\n",
    "df = df.drop('CAP', axis=1)"
   ]
  },
  {
   "cell_type": "code",
   "execution_count": 6,
   "metadata": {},
   "outputs": [
    {
     "data": {
      "text/html": [
       "<div>\n",
       "<style scoped>\n",
       "    .dataframe tbody tr th:only-of-type {\n",
       "        vertical-align: middle;\n",
       "    }\n",
       "\n",
       "    .dataframe tbody tr th {\n",
       "        vertical-align: top;\n",
       "    }\n",
       "\n",
       "    .dataframe thead th {\n",
       "        text-align: right;\n",
       "    }\n",
       "</style>\n",
       "<table border=\"1\" class=\"dataframe\">\n",
       "  <thead>\n",
       "    <tr style=\"text-align: right;\">\n",
       "      <th></th>\n",
       "      <th>FIRMCOST</th>\n",
       "      <th>ASSUME</th>\n",
       "      <th>SIZELOG</th>\n",
       "      <th>INDCOST</th>\n",
       "      <th>CENTRAL</th>\n",
       "      <th>SOPH</th>\n",
       "    </tr>\n",
       "  </thead>\n",
       "  <tbody>\n",
       "    <tr>\n",
       "      <th>0</th>\n",
       "      <td>3.29</td>\n",
       "      <td>0.29</td>\n",
       "      <td>9.55</td>\n",
       "      <td>0.32</td>\n",
       "      <td>1</td>\n",
       "      <td>25</td>\n",
       "    </tr>\n",
       "    <tr>\n",
       "      <th>1</th>\n",
       "      <td>9.31</td>\n",
       "      <td>0.89</td>\n",
       "      <td>8.04</td>\n",
       "      <td>0.33</td>\n",
       "      <td>2</td>\n",
       "      <td>24</td>\n",
       "    </tr>\n",
       "    <tr>\n",
       "      <th>2</th>\n",
       "      <td>4.07</td>\n",
       "      <td>1.67</td>\n",
       "      <td>7.90</td>\n",
       "      <td>0.34</td>\n",
       "      <td>2</td>\n",
       "      <td>15</td>\n",
       "    </tr>\n",
       "    <tr>\n",
       "      <th>3</th>\n",
       "      <td>6.94</td>\n",
       "      <td>1.21</td>\n",
       "      <td>8.10</td>\n",
       "      <td>0.34</td>\n",
       "      <td>1</td>\n",
       "      <td>16</td>\n",
       "    </tr>\n",
       "    <tr>\n",
       "      <th>4</th>\n",
       "      <td>5.35</td>\n",
       "      <td>0.28</td>\n",
       "      <td>7.74</td>\n",
       "      <td>0.09</td>\n",
       "      <td>3</td>\n",
       "      <td>18</td>\n",
       "    </tr>\n",
       "  </tbody>\n",
       "</table>\n",
       "</div>"
      ],
      "text/plain": [
       "   FIRMCOST  ASSUME  SIZELOG  INDCOST  CENTRAL  SOPH\n",
       "0      3.29    0.29     9.55     0.32        1    25\n",
       "1      9.31    0.89     8.04     0.33        2    24\n",
       "2      4.07    1.67     7.90     0.34        2    15\n",
       "3      6.94    1.21     8.10     0.34        1    16\n",
       "4      5.35    0.28     7.74     0.09        3    18"
      ]
     },
     "execution_count": 6,
     "metadata": {},
     "output_type": "execute_result"
    }
   ],
   "source": [
    "# display data\n",
    "df.head()"
   ]
  },
  {
   "cell_type": "code",
   "execution_count": 7,
   "metadata": {},
   "outputs": [
    {
     "data": {
      "text/html": [
       "<div>\n",
       "<style scoped>\n",
       "    .dataframe tbody tr th:only-of-type {\n",
       "        vertical-align: middle;\n",
       "    }\n",
       "\n",
       "    .dataframe tbody tr th {\n",
       "        vertical-align: top;\n",
       "    }\n",
       "\n",
       "    .dataframe thead th {\n",
       "        text-align: right;\n",
       "    }\n",
       "</style>\n",
       "<table border=\"1\" class=\"dataframe\">\n",
       "  <thead>\n",
       "    <tr style=\"text-align: right;\">\n",
       "      <th></th>\n",
       "      <th>FIRMCOST</th>\n",
       "      <th>ASSUME</th>\n",
       "      <th>SIZELOG</th>\n",
       "      <th>INDCOST</th>\n",
       "      <th>CENTRAL</th>\n",
       "      <th>SOPH</th>\n",
       "    </tr>\n",
       "  </thead>\n",
       "  <tbody>\n",
       "    <tr>\n",
       "      <th>count</th>\n",
       "      <td>73.000000</td>\n",
       "      <td>73.000000</td>\n",
       "      <td>73.000000</td>\n",
       "      <td>73.000000</td>\n",
       "      <td>73.000000</td>\n",
       "      <td>73.000000</td>\n",
       "    </tr>\n",
       "    <tr>\n",
       "      <th>mean</th>\n",
       "      <td>10.973288</td>\n",
       "      <td>2.573562</td>\n",
       "      <td>8.331918</td>\n",
       "      <td>0.418356</td>\n",
       "      <td>2.246575</td>\n",
       "      <td>21.191781</td>\n",
       "    </tr>\n",
       "    <tr>\n",
       "      <th>std</th>\n",
       "      <td>16.158611</td>\n",
       "      <td>8.444978</td>\n",
       "      <td>0.963378</td>\n",
       "      <td>0.216243</td>\n",
       "      <td>1.255884</td>\n",
       "      <td>5.303713</td>\n",
       "    </tr>\n",
       "    <tr>\n",
       "      <th>min</th>\n",
       "      <td>0.200000</td>\n",
       "      <td>0.000000</td>\n",
       "      <td>5.270000</td>\n",
       "      <td>0.090000</td>\n",
       "      <td>1.000000</td>\n",
       "      <td>5.000000</td>\n",
       "    </tr>\n",
       "    <tr>\n",
       "      <th>25%</th>\n",
       "      <td>3.510000</td>\n",
       "      <td>0.240000</td>\n",
       "      <td>7.650000</td>\n",
       "      <td>0.330000</td>\n",
       "      <td>1.000000</td>\n",
       "      <td>18.000000</td>\n",
       "    </tr>\n",
       "    <tr>\n",
       "      <th>50%</th>\n",
       "      <td>6.080000</td>\n",
       "      <td>0.510000</td>\n",
       "      <td>8.270000</td>\n",
       "      <td>0.340000</td>\n",
       "      <td>2.000000</td>\n",
       "      <td>23.000000</td>\n",
       "    </tr>\n",
       "    <tr>\n",
       "      <th>75%</th>\n",
       "      <td>12.710000</td>\n",
       "      <td>1.670000</td>\n",
       "      <td>8.950000</td>\n",
       "      <td>0.500000</td>\n",
       "      <td>3.000000</td>\n",
       "      <td>25.000000</td>\n",
       "    </tr>\n",
       "    <tr>\n",
       "      <th>max</th>\n",
       "      <td>97.550003</td>\n",
       "      <td>61.820000</td>\n",
       "      <td>10.600000</td>\n",
       "      <td>1.220000</td>\n",
       "      <td>5.000000</td>\n",
       "      <td>31.000000</td>\n",
       "    </tr>\n",
       "  </tbody>\n",
       "</table>\n",
       "</div>"
      ],
      "text/plain": [
       "        FIRMCOST     ASSUME    SIZELOG    INDCOST    CENTRAL       SOPH\n",
       "count  73.000000  73.000000  73.000000  73.000000  73.000000  73.000000\n",
       "mean   10.973288   2.573562   8.331918   0.418356   2.246575  21.191781\n",
       "std    16.158611   8.444978   0.963378   0.216243   1.255884   5.303713\n",
       "min     0.200000   0.000000   5.270000   0.090000   1.000000   5.000000\n",
       "25%     3.510000   0.240000   7.650000   0.330000   1.000000  18.000000\n",
       "50%     6.080000   0.510000   8.270000   0.340000   2.000000  23.000000\n",
       "75%    12.710000   1.670000   8.950000   0.500000   3.000000  25.000000\n",
       "max    97.550003  61.820000  10.600000   1.220000   5.000000  31.000000"
      ]
     },
     "execution_count": 7,
     "metadata": {},
     "output_type": "execute_result"
    }
   ],
   "source": [
    "# data description\n",
    "df.describe()"
   ]
  },
  {
   "cell_type": "markdown",
   "metadata": {},
   "source": [
    "# Show correlation between predictors"
   ]
  },
  {
   "cell_type": "code",
   "execution_count": 8,
   "metadata": {},
   "outputs": [
    {
     "data": {
      "text/html": [
       "<style  type=\"text/css\" >\n",
       "    #T_d0d92bc2_561c_11e9_a2b8_3c77e641ce73row0_col0 {\n",
       "            background-color:  #b40426;\n",
       "        }    #T_d0d92bc2_561c_11e9_a2b8_3c77e641ce73row0_col1 {\n",
       "            background-color:  #ee8468;\n",
       "        }    #T_d0d92bc2_561c_11e9_a2b8_3c77e641ce73row0_col2 {\n",
       "            background-color:  #dadce0;\n",
       "        }    #T_d0d92bc2_561c_11e9_a2b8_3c77e641ce73row0_col3 {\n",
       "            background-color:  #89acfd;\n",
       "        }    #T_d0d92bc2_561c_11e9_a2b8_3c77e641ce73row0_col4 {\n",
       "            background-color:  #b2ccfb;\n",
       "        }    #T_d0d92bc2_561c_11e9_a2b8_3c77e641ce73row0_col5 {\n",
       "            background-color:  #da5a49;\n",
       "        }    #T_d0d92bc2_561c_11e9_a2b8_3c77e641ce73row1_col0 {\n",
       "            background-color:  #f59f80;\n",
       "        }    #T_d0d92bc2_561c_11e9_a2b8_3c77e641ce73row1_col1 {\n",
       "            background-color:  #b40426;\n",
       "        }    #T_d0d92bc2_561c_11e9_a2b8_3c77e641ce73row1_col2 {\n",
       "            background-color:  #9abbff;\n",
       "        }    #T_d0d92bc2_561c_11e9_a2b8_3c77e641ce73row1_col3 {\n",
       "            background-color:  #3b4cc0;\n",
       "        }    #T_d0d92bc2_561c_11e9_a2b8_3c77e641ce73row1_col4 {\n",
       "            background-color:  #97b8ff;\n",
       "        }    #T_d0d92bc2_561c_11e9_a2b8_3c77e641ce73row1_col5 {\n",
       "            background-color:  #ee8468;\n",
       "        }    #T_d0d92bc2_561c_11e9_a2b8_3c77e641ce73row2_col0 {\n",
       "            background-color:  #f5c4ac;\n",
       "        }    #T_d0d92bc2_561c_11e9_a2b8_3c77e641ce73row2_col1 {\n",
       "            background-color:  #f2cab5;\n",
       "        }    #T_d0d92bc2_561c_11e9_a2b8_3c77e641ce73row2_col2 {\n",
       "            background-color:  #b40426;\n",
       "        }    #T_d0d92bc2_561c_11e9_a2b8_3c77e641ce73row2_col3 {\n",
       "            background-color:  #dfdbd9;\n",
       "        }    #T_d0d92bc2_561c_11e9_a2b8_3c77e641ce73row2_col4 {\n",
       "            background-color:  #f59c7d;\n",
       "        }    #T_d0d92bc2_561c_11e9_a2b8_3c77e641ce73row2_col5 {\n",
       "            background-color:  #bbd1f8;\n",
       "        }    #T_d0d92bc2_561c_11e9_a2b8_3c77e641ce73row3_col0 {\n",
       "            background-color:  #3b4cc0;\n",
       "        }    #T_d0d92bc2_561c_11e9_a2b8_3c77e641ce73row3_col1 {\n",
       "            background-color:  #3b4cc0;\n",
       "        }    #T_d0d92bc2_561c_11e9_a2b8_3c77e641ce73row3_col2 {\n",
       "            background-color:  #5f7fe8;\n",
       "        }    #T_d0d92bc2_561c_11e9_a2b8_3c77e641ce73row3_col3 {\n",
       "            background-color:  #b40426;\n",
       "        }    #T_d0d92bc2_561c_11e9_a2b8_3c77e641ce73row3_col4 {\n",
       "            background-color:  #f0cdbb;\n",
       "        }    #T_d0d92bc2_561c_11e9_a2b8_3c77e641ce73row3_col5 {\n",
       "            background-color:  #3c4ec2;\n",
       "        }    #T_d0d92bc2_561c_11e9_a2b8_3c77e641ce73row4_col0 {\n",
       "            background-color:  #88abfd;\n",
       "        }    #T_d0d92bc2_561c_11e9_a2b8_3c77e641ce73row4_col1 {\n",
       "            background-color:  #afcafc;\n",
       "        }    #T_d0d92bc2_561c_11e9_a2b8_3c77e641ce73row4_col2 {\n",
       "            background-color:  #efcfbf;\n",
       "        }    #T_d0d92bc2_561c_11e9_a2b8_3c77e641ce73row4_col3 {\n",
       "            background-color:  #f5c4ac;\n",
       "        }    #T_d0d92bc2_561c_11e9_a2b8_3c77e641ce73row4_col4 {\n",
       "            background-color:  #b40426;\n",
       "        }    #T_d0d92bc2_561c_11e9_a2b8_3c77e641ce73row4_col5 {\n",
       "            background-color:  #3b4cc0;\n",
       "        }    #T_d0d92bc2_561c_11e9_a2b8_3c77e641ce73row5_col0 {\n",
       "            background-color:  #e16751;\n",
       "        }    #T_d0d92bc2_561c_11e9_a2b8_3c77e641ce73row5_col1 {\n",
       "            background-color:  #ea7b60;\n",
       "        }    #T_d0d92bc2_561c_11e9_a2b8_3c77e641ce73row5_col2 {\n",
       "            background-color:  #3b4cc0;\n",
       "        }    #T_d0d92bc2_561c_11e9_a2b8_3c77e641ce73row5_col3 {\n",
       "            background-color:  #5977e3;\n",
       "        }    #T_d0d92bc2_561c_11e9_a2b8_3c77e641ce73row5_col4 {\n",
       "            background-color:  #3b4cc0;\n",
       "        }    #T_d0d92bc2_561c_11e9_a2b8_3c77e641ce73row5_col5 {\n",
       "            background-color:  #b40426;\n",
       "        }</style>  \n",
       "<table id=\"T_d0d92bc2_561c_11e9_a2b8_3c77e641ce73\" > \n",
       "<thead>    <tr> \n",
       "        <th class=\"blank level0\" ></th> \n",
       "        <th class=\"col_heading level0 col0\" >FIRMCOST</th> \n",
       "        <th class=\"col_heading level0 col1\" >ASSUME</th> \n",
       "        <th class=\"col_heading level0 col2\" >SIZELOG</th> \n",
       "        <th class=\"col_heading level0 col3\" >INDCOST</th> \n",
       "        <th class=\"col_heading level0 col4\" >CENTRAL</th> \n",
       "        <th class=\"col_heading level0 col5\" >SOPH</th> \n",
       "    </tr></thead> \n",
       "<tbody>    <tr> \n",
       "        <th id=\"T_d0d92bc2_561c_11e9_a2b8_3c77e641ce73level0_row0\" class=\"row_heading level0 row0\" >FIRMCOST</th> \n",
       "        <td id=\"T_d0d92bc2_561c_11e9_a2b8_3c77e641ce73row0_col0\" class=\"data row0 col0\" >1</td> \n",
       "        <td id=\"T_d0d92bc2_561c_11e9_a2b8_3c77e641ce73row0_col1\" class=\"data row0 col1\" >0.66</td> \n",
       "        <td id=\"T_d0d92bc2_561c_11e9_a2b8_3c77e641ce73row0_col2\" class=\"data row0 col2\" >0.52</td> \n",
       "        <td id=\"T_d0d92bc2_561c_11e9_a2b8_3c77e641ce73row0_col3\" class=\"data row0 col3\" >-0.3</td> \n",
       "        <td id=\"T_d0d92bc2_561c_11e9_a2b8_3c77e641ce73row0_col4\" class=\"data row0 col4\" >0.0099</td> \n",
       "        <td id=\"T_d0d92bc2_561c_11e9_a2b8_3c77e641ce73row0_col5\" class=\"data row0 col5\" >0.82</td> \n",
       "    </tr>    <tr> \n",
       "        <th id=\"T_d0d92bc2_561c_11e9_a2b8_3c77e641ce73level0_row1\" class=\"row_heading level0 row1\" >ASSUME</th> \n",
       "        <td id=\"T_d0d92bc2_561c_11e9_a2b8_3c77e641ce73row1_col0\" class=\"data row1 col0\" >0.66</td> \n",
       "        <td id=\"T_d0d92bc2_561c_11e9_a2b8_3c77e641ce73row1_col1\" class=\"data row1 col1\" >1</td> \n",
       "        <td id=\"T_d0d92bc2_561c_11e9_a2b8_3c77e641ce73row1_col2\" class=\"data row1 col2\" >0.33</td> \n",
       "        <td id=\"T_d0d92bc2_561c_11e9_a2b8_3c77e641ce73row1_col3\" class=\"data row1 col3\" >-0.7</td> \n",
       "        <td id=\"T_d0d92bc2_561c_11e9_a2b8_3c77e641ce73row1_col4\" class=\"data row1 col4\" >-0.11</td> \n",
       "        <td id=\"T_d0d92bc2_561c_11e9_a2b8_3c77e641ce73row1_col5\" class=\"data row1 col5\" >0.69</td> \n",
       "    </tr>    <tr> \n",
       "        <th id=\"T_d0d92bc2_561c_11e9_a2b8_3c77e641ce73level0_row2\" class=\"row_heading level0 row2\" >SIZELOG</th> \n",
       "        <td id=\"T_d0d92bc2_561c_11e9_a2b8_3c77e641ce73row2_col0\" class=\"data row2 col0\" >0.52</td> \n",
       "        <td id=\"T_d0d92bc2_561c_11e9_a2b8_3c77e641ce73row2_col1\" class=\"data row2 col1\" >0.33</td> \n",
       "        <td id=\"T_d0d92bc2_561c_11e9_a2b8_3c77e641ce73row2_col2\" class=\"data row2 col2\" >1</td> \n",
       "        <td id=\"T_d0d92bc2_561c_11e9_a2b8_3c77e641ce73row2_col3\" class=\"data row2 col3\" >0.16</td> \n",
       "        <td id=\"T_d0d92bc2_561c_11e9_a2b8_3c77e641ce73row2_col4\" class=\"data row2 col4\" >0.6</td> \n",
       "        <td id=\"T_d0d92bc2_561c_11e9_a2b8_3c77e641ce73row2_col5\" class=\"data row2 col5\" >0.052</td> \n",
       "    </tr>    <tr> \n",
       "        <th id=\"T_d0d92bc2_561c_11e9_a2b8_3c77e641ce73level0_row3\" class=\"row_heading level0 row3\" >INDCOST</th> \n",
       "        <td id=\"T_d0d92bc2_561c_11e9_a2b8_3c77e641ce73row3_col0\" class=\"data row3 col0\" >-0.3</td> \n",
       "        <td id=\"T_d0d92bc2_561c_11e9_a2b8_3c77e641ce73row3_col1\" class=\"data row3 col1\" >-0.7</td> \n",
       "        <td id=\"T_d0d92bc2_561c_11e9_a2b8_3c77e641ce73row3_col2\" class=\"data row3 col2\" >0.16</td> \n",
       "        <td id=\"T_d0d92bc2_561c_11e9_a2b8_3c77e641ce73row3_col3\" class=\"data row3 col3\" >1</td> \n",
       "        <td id=\"T_d0d92bc2_561c_11e9_a2b8_3c77e641ce73row3_col4\" class=\"data row3 col4\" >0.37</td> \n",
       "        <td id=\"T_d0d92bc2_561c_11e9_a2b8_3c77e641ce73row3_col5\" class=\"data row3 col5\" >-0.53</td> \n",
       "    </tr>    <tr> \n",
       "        <th id=\"T_d0d92bc2_561c_11e9_a2b8_3c77e641ce73level0_row4\" class=\"row_heading level0 row4\" >CENTRAL</th> \n",
       "        <td id=\"T_d0d92bc2_561c_11e9_a2b8_3c77e641ce73row4_col0\" class=\"data row4 col0\" >0.0099</td> \n",
       "        <td id=\"T_d0d92bc2_561c_11e9_a2b8_3c77e641ce73row4_col1\" class=\"data row4 col1\" >-0.11</td> \n",
       "        <td id=\"T_d0d92bc2_561c_11e9_a2b8_3c77e641ce73row4_col2\" class=\"data row4 col2\" >0.6</td> \n",
       "        <td id=\"T_d0d92bc2_561c_11e9_a2b8_3c77e641ce73row4_col3\" class=\"data row4 col3\" >0.37</td> \n",
       "        <td id=\"T_d0d92bc2_561c_11e9_a2b8_3c77e641ce73row4_col4\" class=\"data row4 col4\" >1</td> \n",
       "        <td id=\"T_d0d92bc2_561c_11e9_a2b8_3c77e641ce73row4_col5\" class=\"data row4 col5\" >-0.54</td> \n",
       "    </tr>    <tr> \n",
       "        <th id=\"T_d0d92bc2_561c_11e9_a2b8_3c77e641ce73level0_row5\" class=\"row_heading level0 row5\" >SOPH</th> \n",
       "        <td id=\"T_d0d92bc2_561c_11e9_a2b8_3c77e641ce73row5_col0\" class=\"data row5 col0\" >0.82</td> \n",
       "        <td id=\"T_d0d92bc2_561c_11e9_a2b8_3c77e641ce73row5_col1\" class=\"data row5 col1\" >0.69</td> \n",
       "        <td id=\"T_d0d92bc2_561c_11e9_a2b8_3c77e641ce73row5_col2\" class=\"data row5 col2\" >0.052</td> \n",
       "        <td id=\"T_d0d92bc2_561c_11e9_a2b8_3c77e641ce73row5_col3\" class=\"data row5 col3\" >-0.53</td> \n",
       "        <td id=\"T_d0d92bc2_561c_11e9_a2b8_3c77e641ce73row5_col4\" class=\"data row5 col4\" >-0.54</td> \n",
       "        <td id=\"T_d0d92bc2_561c_11e9_a2b8_3c77e641ce73row5_col5\" class=\"data row5 col5\" >1</td> \n",
       "    </tr></tbody> \n",
       "</table> "
      ],
      "text/plain": [
       "<pandas.io.formats.style.Styler at 0x7f2a8000b208>"
      ]
     },
     "execution_count": 8,
     "metadata": {},
     "output_type": "execute_result"
    }
   ],
   "source": [
    "# build correlation matrix of predictors\n",
    "corr(df.loc[:, 'FIRMCOST':'SOPH'], ['FIRMCOST', 'ASSUME', 'SIZELOG', 'INDCOST', 'CENTRAL', 'SOPH'])"
   ]
  },
  {
   "cell_type": "markdown",
   "metadata": {},
   "source": [
    "# Fit linear model"
   ]
  },
  {
   "cell_type": "code",
   "execution_count": 9,
   "metadata": {},
   "outputs": [
    {
     "data": {
      "text/plain": [
       "array([ 1.65692943e-01, -2.06567267e+00,  3.21444851e+01, -2.46195547e-02,\n",
       "       -1.91112242e-01,  1.82712436e+01])"
      ]
     },
     "execution_count": 9,
     "metadata": {},
     "output_type": "execute_result"
    }
   ],
   "source": [
    "def fit_linear_model(df):\n",
    "    input_matrix = df.copy()\n",
    "    input_matrix['INTERCEPT'] = pd.Series(1, index=input_matrix.index)\n",
    "    \n",
    "    X = input_matrix.loc[:, 'ASSUME':'INTERCEPT'].values\n",
    "    y = input_matrix['FIRMCOST'].values\n",
    "    \n",
    "    coefs = np.dot(np.dot(np.linalg.inv(np.dot(X.transpose(), X)), \n",
    "                          X.transpose()), y)\n",
    "    \n",
    "    return coefs\n",
    "\n",
    "# split dataset on train and test 60:40, due to low number of examples\n",
    "X_train, X_test = df[:40], df[40:]\n",
    "# compute coefficient for linear model\n",
    "coefs = fit_linear_model(X_train)\n",
    "coefs"
   ]
  },
  {
   "cell_type": "markdown",
   "metadata": {},
   "source": [
    "# Get predictions"
   ]
  },
  {
   "cell_type": "code",
   "execution_count": 10,
   "metadata": {},
   "outputs": [
    {
     "data": {
      "text/html": [
       "<div>\n",
       "<style scoped>\n",
       "    .dataframe tbody tr th:only-of-type {\n",
       "        vertical-align: middle;\n",
       "    }\n",
       "\n",
       "    .dataframe tbody tr th {\n",
       "        vertical-align: top;\n",
       "    }\n",
       "\n",
       "    .dataframe thead th {\n",
       "        text-align: right;\n",
       "    }\n",
       "</style>\n",
       "<table border=\"1\" class=\"dataframe\">\n",
       "  <thead>\n",
       "    <tr style=\"text-align: right;\">\n",
       "      <th></th>\n",
       "      <th>predictions</th>\n",
       "      <th>actual</th>\n",
       "      <th>residual</th>\n",
       "    </tr>\n",
       "  </thead>\n",
       "  <tbody>\n",
       "    <tr>\n",
       "      <th>40</th>\n",
       "      <td>7.160693</td>\n",
       "      <td>2.160000</td>\n",
       "      <td>-5.000693</td>\n",
       "    </tr>\n",
       "    <tr>\n",
       "      <th>41</th>\n",
       "      <td>4.355577</td>\n",
       "      <td>0.360000</td>\n",
       "      <td>-3.995577</td>\n",
       "    </tr>\n",
       "    <tr>\n",
       "      <th>42</th>\n",
       "      <td>5.532433</td>\n",
       "      <td>7.830000</td>\n",
       "      <td>2.297567</td>\n",
       "    </tr>\n",
       "    <tr>\n",
       "      <th>43</th>\n",
       "      <td>9.434665</td>\n",
       "      <td>5.090000</td>\n",
       "      <td>-4.344665</td>\n",
       "    </tr>\n",
       "    <tr>\n",
       "      <th>44</th>\n",
       "      <td>-4.519594</td>\n",
       "      <td>0.200000</td>\n",
       "      <td>4.719594</td>\n",
       "    </tr>\n",
       "    <tr>\n",
       "      <th>45</th>\n",
       "      <td>7.408182</td>\n",
       "      <td>8.850000</td>\n",
       "      <td>1.441818</td>\n",
       "    </tr>\n",
       "    <tr>\n",
       "      <th>46</th>\n",
       "      <td>9.943768</td>\n",
       "      <td>0.760000</td>\n",
       "      <td>-9.183768</td>\n",
       "    </tr>\n",
       "    <tr>\n",
       "      <th>47</th>\n",
       "      <td>5.365878</td>\n",
       "      <td>5.710000</td>\n",
       "      <td>0.344122</td>\n",
       "    </tr>\n",
       "    <tr>\n",
       "      <th>48</th>\n",
       "      <td>27.372334</td>\n",
       "      <td>17.530001</td>\n",
       "      <td>-9.842334</td>\n",
       "    </tr>\n",
       "    <tr>\n",
       "      <th>49</th>\n",
       "      <td>5.918854</td>\n",
       "      <td>14.000000</td>\n",
       "      <td>8.081146</td>\n",
       "    </tr>\n",
       "    <tr>\n",
       "      <th>50</th>\n",
       "      <td>5.524667</td>\n",
       "      <td>2.060000</td>\n",
       "      <td>-3.464667</td>\n",
       "    </tr>\n",
       "    <tr>\n",
       "      <th>51</th>\n",
       "      <td>4.203710</td>\n",
       "      <td>0.930000</td>\n",
       "      <td>-3.273710</td>\n",
       "    </tr>\n",
       "    <tr>\n",
       "      <th>52</th>\n",
       "      <td>12.420589</td>\n",
       "      <td>10.000000</td>\n",
       "      <td>-2.420589</td>\n",
       "    </tr>\n",
       "    <tr>\n",
       "      <th>53</th>\n",
       "      <td>14.960786</td>\n",
       "      <td>5.820000</td>\n",
       "      <td>-9.140786</td>\n",
       "    </tr>\n",
       "    <tr>\n",
       "      <th>54</th>\n",
       "      <td>5.799707</td>\n",
       "      <td>9.130000</td>\n",
       "      <td>3.330293</td>\n",
       "    </tr>\n",
       "    <tr>\n",
       "      <th>55</th>\n",
       "      <td>14.295559</td>\n",
       "      <td>9.000000</td>\n",
       "      <td>-5.295559</td>\n",
       "    </tr>\n",
       "    <tr>\n",
       "      <th>56</th>\n",
       "      <td>28.505357</td>\n",
       "      <td>12.610000</td>\n",
       "      <td>-15.895358</td>\n",
       "    </tr>\n",
       "    <tr>\n",
       "      <th>57</th>\n",
       "      <td>5.473248</td>\n",
       "      <td>2.150000</td>\n",
       "      <td>-3.323248</td>\n",
       "    </tr>\n",
       "    <tr>\n",
       "      <th>58</th>\n",
       "      <td>9.991330</td>\n",
       "      <td>22.219999</td>\n",
       "      <td>12.228669</td>\n",
       "    </tr>\n",
       "    <tr>\n",
       "      <th>59</th>\n",
       "      <td>9.269259</td>\n",
       "      <td>12.710000</td>\n",
       "      <td>3.440741</td>\n",
       "    </tr>\n",
       "    <tr>\n",
       "      <th>60</th>\n",
       "      <td>14.418950</td>\n",
       "      <td>15.970000</td>\n",
       "      <td>1.551050</td>\n",
       "    </tr>\n",
       "    <tr>\n",
       "      <th>61</th>\n",
       "      <td>5.914935</td>\n",
       "      <td>4.320000</td>\n",
       "      <td>-1.594934</td>\n",
       "    </tr>\n",
       "    <tr>\n",
       "      <th>62</th>\n",
       "      <td>7.990755</td>\n",
       "      <td>8.490000</td>\n",
       "      <td>0.499245</td>\n",
       "    </tr>\n",
       "    <tr>\n",
       "      <th>63</th>\n",
       "      <td>13.591023</td>\n",
       "      <td>5.250000</td>\n",
       "      <td>-8.341023</td>\n",
       "    </tr>\n",
       "    <tr>\n",
       "      <th>64</th>\n",
       "      <td>23.189775</td>\n",
       "      <td>18.330000</td>\n",
       "      <td>-4.859775</td>\n",
       "    </tr>\n",
       "    <tr>\n",
       "      <th>65</th>\n",
       "      <td>12.571876</td>\n",
       "      <td>21.719999</td>\n",
       "      <td>9.148123</td>\n",
       "    </tr>\n",
       "    <tr>\n",
       "      <th>66</th>\n",
       "      <td>5.913659</td>\n",
       "      <td>0.400000</td>\n",
       "      <td>-5.513659</td>\n",
       "    </tr>\n",
       "    <tr>\n",
       "      <th>67</th>\n",
       "      <td>9.121543</td>\n",
       "      <td>3.700000</td>\n",
       "      <td>-5.421543</td>\n",
       "    </tr>\n",
       "    <tr>\n",
       "      <th>68</th>\n",
       "      <td>11.491456</td>\n",
       "      <td>15.000000</td>\n",
       "      <td>3.508544</td>\n",
       "    </tr>\n",
       "    <tr>\n",
       "      <th>69</th>\n",
       "      <td>23.757871</td>\n",
       "      <td>18.000000</td>\n",
       "      <td>-5.757871</td>\n",
       "    </tr>\n",
       "    <tr>\n",
       "      <th>70</th>\n",
       "      <td>8.911315</td>\n",
       "      <td>29.120001</td>\n",
       "      <td>20.208686</td>\n",
       "    </tr>\n",
       "    <tr>\n",
       "      <th>71</th>\n",
       "      <td>13.261827</td>\n",
       "      <td>79.300003</td>\n",
       "      <td>66.038176</td>\n",
       "    </tr>\n",
       "    <tr>\n",
       "      <th>72</th>\n",
       "      <td>33.217764</td>\n",
       "      <td>13.570000</td>\n",
       "      <td>-19.647764</td>\n",
       "    </tr>\n",
       "  </tbody>\n",
       "</table>\n",
       "</div>"
      ],
      "text/plain": [
       "    predictions     actual   residual\n",
       "40     7.160693   2.160000  -5.000693\n",
       "41     4.355577   0.360000  -3.995577\n",
       "42     5.532433   7.830000   2.297567\n",
       "43     9.434665   5.090000  -4.344665\n",
       "44    -4.519594   0.200000   4.719594\n",
       "45     7.408182   8.850000   1.441818\n",
       "46     9.943768   0.760000  -9.183768\n",
       "47     5.365878   5.710000   0.344122\n",
       "48    27.372334  17.530001  -9.842334\n",
       "49     5.918854  14.000000   8.081146\n",
       "50     5.524667   2.060000  -3.464667\n",
       "51     4.203710   0.930000  -3.273710\n",
       "52    12.420589  10.000000  -2.420589\n",
       "53    14.960786   5.820000  -9.140786\n",
       "54     5.799707   9.130000   3.330293\n",
       "55    14.295559   9.000000  -5.295559\n",
       "56    28.505357  12.610000 -15.895358\n",
       "57     5.473248   2.150000  -3.323248\n",
       "58     9.991330  22.219999  12.228669\n",
       "59     9.269259  12.710000   3.440741\n",
       "60    14.418950  15.970000   1.551050\n",
       "61     5.914935   4.320000  -1.594934\n",
       "62     7.990755   8.490000   0.499245\n",
       "63    13.591023   5.250000  -8.341023\n",
       "64    23.189775  18.330000  -4.859775\n",
       "65    12.571876  21.719999   9.148123\n",
       "66     5.913659   0.400000  -5.513659\n",
       "67     9.121543   3.700000  -5.421543\n",
       "68    11.491456  15.000000   3.508544\n",
       "69    23.757871  18.000000  -5.757871\n",
       "70     8.911315  29.120001  20.208686\n",
       "71    13.261827  79.300003  66.038176\n",
       "72    33.217764  13.570000 -19.647764"
      ]
     },
     "execution_count": 10,
     "metadata": {},
     "output_type": "execute_result"
    }
   ],
   "source": [
    "# get results on test dataset\n",
    "def linear_model_predict(coefficients, to_predict):\n",
    "    pred = to_predict.apply(\n",
    "        lambda x: sum(list(map(\n",
    "            lambda k: k[0]*k[1], zip(np.append(x.values[1:], 1), coefficients))))\n",
    "        , axis=1)\n",
    "    \n",
    "    return pred\n",
    "\n",
    "# comparison\n",
    "y_predictions = linear_model_predict(coefs, X_test)\n",
    "comp = y_predictions.to_frame(name='predictions')\n",
    "comp['actual'] = X_test['FIRMCOST']\n",
    "comp['residual'] = comp['actual'] - comp['predictions']\n",
    "comp"
   ]
  },
  {
   "cell_type": "markdown",
   "metadata": {},
   "source": [
    "# Residual plot"
   ]
  },
  {
   "cell_type": "code",
   "execution_count": 11,
   "metadata": {},
   "outputs": [
    {
     "data": {
      "image/png": "[encoded data removed]",
      "text/plain": [
       "<Figure size 432x288 with 1 Axes>"
      ]
     },
     "metadata": {
      "needs_background": "light"
     },
     "output_type": "display_data"
    }
   ],
   "source": [
    "import matplotlib.pyplot as plt\n",
    "\n",
    "plt.plot(comp['predictions'], comp['residual'], 'ro', np.linspace(0, max(comp['predictions']), len(comp)), [0]*len(comp), '--k')\n",
    "plt.xlabel('predicted')\n",
    "plt.ylabel('residuals')\n",
    "plt.show()"
   ]
  },
  {
   "cell_type": "markdown",
   "metadata": {},
   "source": [
    "There is no visible pattern but we have several outliers."
   ]
  },
  {
   "cell_type": "code",
   "execution_count": 12,
   "metadata": {},
   "outputs": [
    {
     "name": "stderr",
     "output_type": "stream",
     "text": [
      "/home/daniil/anaconda3/lib/python3.6/site-packages/scipy/stats/stats.py:1713: FutureWarning: Using a non-tuple sequence for multidimensional indexing is deprecated; use `arr[tuple(seq)]` instead of `arr[seq]`. In the future this will be interpreted as an array index, `arr[np.array(seq)]`, which will result either in an error or a different result.\n",
      "  return np.add.reduce(sorted[indexer] * weights, axis=axis) / sumval\n"
     ]
    },
    {
     "data": {
      "text/plain": [
       "<matplotlib.axes._subplots.AxesSubplot at 0x7f2a68844ac8>"
      ]
     },
     "execution_count": 12,
     "metadata": {},
     "output_type": "execute_result"
    },
    {
     "data": {
      "image/png": "[encoded data removed]",
      "text/plain": [
       "<Figure size 432x288 with 1 Axes>"
      ]
     },
     "metadata": {
      "needs_background": "light"
     },
     "output_type": "display_data"
    }
   ],
   "source": [
    "# density plot\n",
    "import seaborn as sns\n",
    "sns.distplot(comp['residual'], hist=False)"
   ]
  },
  {
   "cell_type": "markdown",
   "metadata": {},
   "source": [
    "# Compute $R^2$"
   ]
  },
  {
   "cell_type": "code",
   "execution_count": 13,
   "metadata": {},
   "outputs": [
    {
     "data": {
      "text/plain": [
       "0.016972853550193512"
      ]
     },
     "execution_count": 13,
     "metadata": {},
     "output_type": "execute_result"
    }
   ],
   "source": [
    "def r_squared(actual, predicted):\n",
    "    mean = sum(actual)/len(actual)\n",
    "    RSS = sum(list(map(lambda x: (x[0] - x[1])**2, zip(predicted, actual))))\n",
    "    TSS = sum(list(map(lambda x: (x - mean)**2, actual)))\n",
    "    \n",
    "    return 1 - RSS/TSS\n",
    "\n",
    "score = r_squared(comp['actual'].tolist(), comp['predictions'].tolist())\n",
    "score"
   ]
  },
  {
   "cell_type": "markdown",
   "metadata": {},
   "source": [
    "R^2 of the model equals to **0.016**, so the model fits a bit better than a horizontal hyperplane. Due to high correlation between predictors and rank of X is less than p + 1 (5 < 6), so we can assume that ridge regression can be a better choise for our problem."
   ]
  },
  {
   "cell_type": "markdown",
   "metadata": {},
   "source": [
    "# Estimating covariance matrix of $\\tilde{β}$"
   ]
  },
  {
   "cell_type": "code",
   "execution_count": 14,
   "metadata": {},
   "outputs": [
    {
     "data": {
      "text/html": [
       "<div>\n",
       "<style scoped>\n",
       "    .dataframe tbody tr th:only-of-type {\n",
       "        vertical-align: middle;\n",
       "    }\n",
       "\n",
       "    .dataframe tbody tr th {\n",
       "        vertical-align: top;\n",
       "    }\n",
       "\n",
       "    .dataframe thead th {\n",
       "        text-align: right;\n",
       "    }\n",
       "</style>\n",
       "<table border=\"1\" class=\"dataframe\">\n",
       "  <thead>\n",
       "    <tr style=\"text-align: right;\">\n",
       "      <th></th>\n",
       "      <th>0</th>\n",
       "      <th>1</th>\n",
       "      <th>2</th>\n",
       "      <th>3</th>\n",
       "      <th>4</th>\n",
       "      <th>5</th>\n",
       "    </tr>\n",
       "  </thead>\n",
       "  <tbody>\n",
       "    <tr>\n",
       "      <th>0</th>\n",
       "      <td>1.264688</td>\n",
       "      <td>0.530214</td>\n",
       "      <td>-2.308232</td>\n",
       "      <td>0.044273</td>\n",
       "      <td>-0.052752</td>\n",
       "      <td>-4.163613</td>\n",
       "    </tr>\n",
       "    <tr>\n",
       "      <th>1</th>\n",
       "      <td>0.530214</td>\n",
       "      <td>12.687781</td>\n",
       "      <td>0.411645</td>\n",
       "      <td>1.493031</td>\n",
       "      <td>0.760806</td>\n",
       "      <td>-125.394404</td>\n",
       "    </tr>\n",
       "    <tr>\n",
       "      <th>2</th>\n",
       "      <td>-2.308232</td>\n",
       "      <td>0.411645</td>\n",
       "      <td>150.220666</td>\n",
       "      <td>5.600334</td>\n",
       "      <td>-1.571776</td>\n",
       "      <td>-41.155763</td>\n",
       "    </tr>\n",
       "    <tr>\n",
       "      <th>3</th>\n",
       "      <td>0.044273</td>\n",
       "      <td>1.493031</td>\n",
       "      <td>5.600334</td>\n",
       "      <td>6.343226</td>\n",
       "      <td>-0.295370</td>\n",
       "      <td>-22.117418</td>\n",
       "    </tr>\n",
       "    <tr>\n",
       "      <th>4</th>\n",
       "      <td>-0.052752</td>\n",
       "      <td>0.760806</td>\n",
       "      <td>-1.571776</td>\n",
       "      <td>-0.295370</td>\n",
       "      <td>0.333641</td>\n",
       "      <td>-11.916516</td>\n",
       "    </tr>\n",
       "    <tr>\n",
       "      <th>5</th>\n",
       "      <td>-4.163613</td>\n",
       "      <td>-125.394404</td>\n",
       "      <td>-41.155763</td>\n",
       "      <td>-22.117418</td>\n",
       "      <td>-11.916516</td>\n",
       "      <td>1367.329784</td>\n",
       "    </tr>\n",
       "  </tbody>\n",
       "</table>\n",
       "</div>"
      ],
      "text/plain": [
       "          0           1           2          3          4            5\n",
       "0  1.264688    0.530214   -2.308232   0.044273  -0.052752    -4.163613\n",
       "1  0.530214   12.687781    0.411645   1.493031   0.760806  -125.394404\n",
       "2 -2.308232    0.411645  150.220666   5.600334  -1.571776   -41.155763\n",
       "3  0.044273    1.493031    5.600334   6.343226  -0.295370   -22.117418\n",
       "4 -0.052752    0.760806   -1.571776  -0.295370   0.333641   -11.916516\n",
       "5 -4.163613 -125.394404  -41.155763 -22.117418 -11.916516  1367.329784"
      ]
     },
     "execution_count": 14,
     "metadata": {},
     "output_type": "execute_result"
    }
   ],
   "source": [
    "# Variance of β\n",
    "score = r_squared(comp['actual'].tolist(), comp['predictions'].tolist())\n",
    "X = X_train.copy()\n",
    "X['INTERCEPT'] = pd.Series(1, index=X.index)\n",
    "y = X['FIRMCOST'].values\n",
    "X = X.loc[:, 'ASSUME':'INTERCEPT'].values\n",
    "H = np.dot(np.dot(X, np.linalg.inv(np.dot(X.transpose(), X))), X.transpose())\n",
    "# estimating σ^2\n",
    "sigma2 = np.dot(np.dot(y.transpose(), (np.identity(H.shape[0]) - H)), y)/(X.shape[0] - X.shape[1])\n",
    "var = np.dot(np.linalg.inv(np.dot(X.transpose(), X)), sigma2)\n",
    "pd.DataFrame(var)"
   ]
  },
  {
   "cell_type": "markdown",
   "metadata": {},
   "source": [
    "# Ridge regression"
   ]
  },
  {
   "cell_type": "code",
   "execution_count": 15,
   "metadata": {},
   "outputs": [
    {
     "data": {
      "text/plain": [
       "0.016972853550185962"
      ]
     },
     "execution_count": 15,
     "metadata": {},
     "output_type": "execute_result"
    }
   ],
   "source": [
    "from sklearn.preprocessing import StandardScaler\n",
    "\n",
    "def fit_ridge_regression(x, y, alpha=1):\n",
    "    X = x.copy()\n",
    "    X = np.array([np.append(step, 1) for step in X])\n",
    "\n",
    "    return np.dot(np.dot(np.linalg.inv((np.dot(X.transpose(), X) + \n",
    "                  np.dot(alpha, np.identity(X.shape[1])))), \n",
    "                                            X.transpose()), y)\n",
    "\n",
    "def ridge_reg_predict(coefficients, to_predict):\n",
    "    pred = to_predict.apply(\n",
    "        lambda x: sum(list(map(\n",
    "            lambda k: k[0]*k[1], zip(np.append(x.values, 1), coefficients))))\n",
    "        , axis=1)\n",
    "    \n",
    "    return pred\n",
    "\n",
    "# Standarize data\n",
    "scaler = StandardScaler()\n",
    "X_train_rg, y_train = X_train.loc[:, 'ASSUME':'SOPH'].values, X_train['FIRMCOST'].values\n",
    "X_train_std = scaler.fit_transform(X_train_rg)\n",
    "\n",
    "# getting most sutable alpha\n",
    "alphas, output = np.linspace(0, 10, 1000), []\n",
    "for alpha in alphas:\n",
    "    ridge_coefs = fit_ridge_regression(X_train_std, y_train, alpha=alpha)\n",
    "    ridge_pred = ridge_reg_predict(ridge_coefs, pd.DataFrame(X_train_std))\n",
    "    output.append(r_squared(y_train, ridge_pred))\n",
    "\n",
    "best_alpha = alphas[output.index(max(output))]\n",
    "ridge_coefs = fit_ridge_regression(X_train_std, y_train, alpha=best_alpha)\n",
    "ridge_pred = ridge_reg_predict(ridge_coefs, pd.DataFrame(scaler.transform(X_test.loc[:, 'ASSUME':'SOPH'].values)))\n",
    "y_test = X_test['FIRMCOST'].values\n",
    "r_squared(y_test, ridge_pred)"
   ]
  },
  {
   "cell_type": "markdown",
   "metadata": {},
   "source": [
    "$R^2$ score of ridge regression is the same as $R^2$ of pure linear model. Due to most sutable alpha, which is __0.0__. So, ridge regression doesn't improve perfomance."
   ]
  },
  {
   "cell_type": "markdown",
   "metadata": {},
   "source": [
    "# Applying Principal Component Analysis to reduce dimension of the space"
   ]
  },
  {
   "cell_type": "code",
   "execution_count": 16,
   "metadata": {},
   "outputs": [
    {
     "name": "stdout",
     "output_type": "stream",
     "text": [
      "High five! You successfully sent some data to your account on plotly. View your plot in your browser at https://plot.ly/~dratarov/0 or inside your plot.ly account where it is named 'selecting-principal-components'\n"
     ]
    },
    {
     "data": {
      "text/html": [
       "<iframe id=\"igraph\" scrolling=\"no\" style=\"border:none;\" seamless=\"seamless\" src=\"https://plot.ly/~dratarov/0.embed\" height=\"525px\" width=\"100%\"></iframe>"
      ],
      "text/plain": [
       "<plotly.tools.PlotlyDisplay object>"
      ]
     },
     "execution_count": 16,
     "metadata": {},
     "output_type": "execute_result"
    }
   ],
   "source": [
    "import plotly.plotly as py\n",
    "\n",
    "scaler = StandardScaler()\n",
    "x_train, y_train = X_train.loc[:, 'ASSUME':'SOPH'].values, X_train['FIRMCOST'].values\n",
    "x_test, y_test = X_test.loc[:, 'ASSUME':'SOPH'].values, X_test['FIRMCOST'].values\n",
    "scaler.fit(x_train)\n",
    "\n",
    "# rescale our data\n",
    "x_train = scaler.transform(x_train)\n",
    "x_test = scaler.transform(x_test)\n",
    "\n",
    "# getting mean vector\n",
    "mean_vec = np.mean(x_train, axis=0)\n",
    "# build covariance matrix\n",
    "cov_mat = np.dot((x_train - mean_vec).transpose(), (x_train - mean_vec))/(x_train.shape[0] - 1)\n",
    "# getting eigen values and corresponding vectors\n",
    "eigen_values, eigen_vecs = np.linalg.eig(cov_mat)\n",
    "eigen_pairs = [(np.abs(eigen_values[i]), eigen_vecs[:,i]) for i in range(len(eigen_values))]\n",
    "eigen_pairs.sort(key=lambda x: x[0], reverse=True)\n",
    "\n",
    "# compute variance explained by each principal component\n",
    "var_exp = [val/sum(eigen_values)*100 for val in sorted(eigen_values, reverse=True)]\n",
    "# cumulative sum of the elements\n",
    "cum_var_exp = np.cumsum(var_exp)\n",
    "# creat plot\n",
    "trace1 = dict(\n",
    "    type='bar',\n",
    "    x=['PC{}'.format(i) for i in range(1, len(eigen_values) + 1)],\n",
    "    y=var_exp,\n",
    "    name='Individual'\n",
    ")\n",
    "\n",
    "trace2 = dict(\n",
    "    type='scatter',\n",
    "    x=['PC{}'.format(i) for i in range(1, len(eigen_values) + 1)],\n",
    "    y=cum_var_exp,\n",
    "    name='Cumulative'\n",
    ")\n",
    "\n",
    "data = [trace1, trace2]\n",
    "\n",
    "layout=dict(\n",
    "    title='Explained variance by different principal components',\n",
    "    yaxis=dict(\n",
    "        title='Explained variance in percent'\n",
    "    ),\n",
    "    annotations=list([\n",
    "        dict(\n",
    "            x=1.16,\n",
    "            y=1.05,\n",
    "            xref='paper',\n",
    "            yref='paper',\n",
    "            text='Explained Variance',\n",
    "            showarrow=False,\n",
    "        )\n",
    "    ])\n",
    ")\n",
    "\n",
    "fig = dict(data=data, layout=layout)\n",
    "py.iplot(fig, filename='selecting-principal-components')"
   ]
  },
  {
   "cell_type": "markdown",
   "metadata": {},
   "source": [
    "# Projection onto the new Feature Space"
   ]
  },
  {
   "cell_type": "code",
   "execution_count": 24,
   "metadata": {},
   "outputs": [
    {
     "name": "stderr",
     "output_type": "stream",
     "text": [
      "/home/daniil/.local/lib/python3.6/site-packages/ipykernel_launcher.py:4: FutureWarning:\n",
      "\n",
      "arrays to stack must be passed as a \"sequence\" type such as list or tuple. Support for non-sequence iterables such as generators is deprecated as of NumPy 1.16 and will raise an error in the future.\n",
      "\n"
     ]
    },
    {
     "data": {
      "text/plain": [
       "-0.24806993048618198"
      ]
     },
     "execution_count": 24,
     "metadata": {},
     "output_type": "execute_result"
    }
   ],
   "source": [
    "# reducing the 5-dimensional feature space to a 4-dimensional feature subspace\n",
    "# constructing of the projection matrix\n",
    "def choose_n_comp(N):\n",
    "    return np.hstack((eigen_pairs[i][1].reshape(len(eigen_values),1) for i in range(N)))\n",
    "\n",
    "num_of_comp = 4\n",
    "matrix_w = choose_n_comp(num_of_comp)\n",
    "# transform our samples\n",
    "x_train_tr = np.dot(x_train, matrix_w)\n",
    "x_test_tr = np.dot(x_test, matrix_w)\n",
    "\n",
    "# train linear model\n",
    "coefs = fit_ridge_regression(x_train_tr, y_train, alpha=0)\n",
    "pred = ridge_reg_predict(coefs, pd.DataFrame(x_test_tr))\n",
    "r_squared(y_test, pred)"
   ]
  },
  {
   "cell_type": "markdown",
   "metadata": {},
   "source": [
    "__1__ component, __36%__ of variance explained, $R^2$ on linear model = __0.027__ <br>\n",
    "__2__ components, __60%__ of variance explained, $R^2$ on linear model = __-1.190__ <br>\n",
    "__3__ components, __76%__ of variance explained, $R^2$ on linear model = __-0.091__ <br>\n",
    "__4__ components, __90%__ of variance explained, $R^2$ on linear model = __-0.248__ <br>\n",
    "__5__ components, __100%__ of variance explained, $R^2$ on linear model = __0.0169__ <br>\n",
    "\n",
    "So, optimal number of components is still 5. Better performace result with only one component we can consider as luck due to lack of samples in our dataset and impossibility to obtain balanced decision. "
   ]
  },
  {
   "cell_type": "markdown",
   "metadata": {},
   "source": [
    "# Variable Selection\n",
    "### CRITERION-BASED PROCEDURE (Adjusted $R^2$)"
   ]
  },
  {
   "cell_type": "code",
   "execution_count": 56,
   "metadata": {},
   "outputs": [
    {
     "data": {
      "text/plain": [
       "[[0.15736845008248512, (1, 3)],\n",
       " [0.13107789420863258, (1, 4)],\n",
       " [0.08440232852963192, (1, 3, 4)],\n",
       " [0.005256447227352745, (1, 2)],\n",
       " [-0.007745722688474066, (1, 2, 4)],\n",
       " [-0.02716435251750382, (1, 2, 3)],\n",
       " [-0.043712671980775, (1, 2, 3, 4)],\n",
       " [-0.08724039547125595, (0, 1, 2)],\n",
       " [-0.11427456702110295, (3, 4)],\n",
       " [-0.12351984229840496, (0, 1, 2, 4)],\n",
       " [-0.12465931938912012, (0, 1, 2, 3)],\n",
       " [-0.14968273946623256, (2, 3)],\n",
       " [-0.15524864967324192, (2, 4)],\n",
       " [-0.16506921060718693, (0, 1, 2, 3, 4)],\n",
       " [-0.1926115478503685, (2, 3, 4)],\n",
       " [-0.24696417611594135, (0, 2)],\n",
       " [-0.2816119797516208, (0, 1)],\n",
       " [-0.28567329009918163, (0, 2, 3)],\n",
       " [-0.3057600918280441, (0, 2, 4)],\n",
       " [-0.3205340505498979, (0, 1, 4)],\n",
       " [-0.33569006539354174, (0, 1, 3)],\n",
       " [-0.34885986079418907, (0, 2, 3, 4)],\n",
       " [-0.371973947569995, (0, 1, 3, 4)],\n",
       " [-0.5136209732785726, (0, 4)],\n",
       " [-0.5912135704717056, (0, 3, 4)],\n",
       " [-0.6474805992304404, (0, 3)]]"
      ]
     },
     "execution_count": 56,
     "metadata": {},
     "output_type": "execute_result"
    }
   ],
   "source": [
    "import itertools\n",
    "\n",
    "# adjusted r2\n",
    "def adj_r_squared(actual, predicted, exp_var):\n",
    "    r2 = r_squared(actual, predicted)\n",
    "    return 1 - (1 - r2)*(len(actual) - 1)/(len(actual) - exp_var - 1)\n",
    "\n",
    "combinations = []\n",
    "\n",
    "#Looping over k = 1 to k = 5 components in X\n",
    "for k in range(2, x_train.shape[1] + 1):\n",
    "    #Looping over all possible combinations\n",
    "    for indices in itertools.combinations(range(len(x_train.transpose())), k):\n",
    "        combo = np.array([x_train.transpose()[i] for i in indices]).transpose()\n",
    "        reg_coefs = fit_ridge_regression(combo, y_train, alpha=0) \n",
    "        pred = ridge_reg_predict(reg_coefs, pd.DataFrame(np.array([x_test.transpose()[i] for i in indices]).transpose()))\n",
    "        combinations.append([adj_r_squared(y_test, pred, k), indices])   \n",
    "\n",
    "# sort combinations list by adjusted r2 in descending order\n",
    "combinations = sorted(combinations, key=lambda x: x[0], reverse=True)\n",
    "combinations"
   ]
  },
  {
   "cell_type": "markdown",
   "metadata": {},
   "source": [
    "As we can see, best adjusted $R^2$ score we get when using __SIZELOG__ and __CENTRAL__ components."
   ]
  },
  {
   "cell_type": "code",
   "execution_count": 71,
   "metadata": {},
   "outputs": [
    {
     "data": {
      "text/plain": [
       "0.2100329219523298"
      ]
     },
     "execution_count": 71,
     "metadata": {},
     "output_type": "execute_result"
    }
   ],
   "source": [
    "best = combinations[0][1]\n",
    "reg_coefs = fit_ridge_regression(np.array([x_train[:, i] for i in best]).transpose(), y_train, alpha=0) \n",
    "pred = ridge_reg_predict(reg_coefs, pd.DataFrame(np.array([x_test[:, i] for i in best]).transpose()))\n",
    "r_squared(y_test, pred)"
   ]
  },
  {
   "cell_type": "markdown",
   "metadata": {},
   "source": [
    "$R^2$ score = __0.21__ for  __SIZELOG__ and __CENTRAL__ features."
   ]
  },
  {
   "cell_type": "markdown",
   "metadata": {},
   "source": [
    "# Perform F-test "
   ]
  },
  {
   "cell_type": "code",
   "execution_count": 83,
   "metadata": {},
   "outputs": [
    {
     "data": {
      "text/plain": [
       "-1.7675408272236814"
      ]
     },
     "execution_count": 83,
     "metadata": {},
     "output_type": "execute_result"
    }
   ],
   "source": [
    "def f_test(full, reduced, actual, dff, dfr):\n",
    "    SSE_F = sum([(yi - yi_pred)**2 for yi, yi_pred in zip(actual, full)])\n",
    "    SSE_R = sum([(yi - yi_pred)**2 for yi, yi_pred in zip(actual, reduced)])\n",
    "    F_stat = ((SSE_R - SSE_F)/(dfr - dff))/(SSE_F/dff)\n",
    "\n",
    "    return F_stat\n",
    "\n",
    "def p_value()\n",
    "# F-test between model with all 5 features and model with 2 features \n",
    "dff, dfr = len(comp['actual'].values) - 5 - 1, len(comp['actual'].values) - 2 - 1\n",
    "F_stat = f_test(comp['predictions'].values, pred, comp['actual'].values, dff, dfr)\n",
    "F_stat"
   ]
  },
  {
   "cell_type": "markdown",
   "metadata": {},
   "source": [
    "As far as we can see, we can't reject the null hypothesis. Which tell us that model with 2 components is better choise."
   ]
  },
  {
   "cell_type": "code",
   "execution_count": 86,
   "metadata": {},
   "outputs": [
    {
     "data": {
      "text/plain": [
       "4.918697454735734"
      ]
     },
     "execution_count": 86,
     "metadata": {},
     "output_type": "execute_result"
    }
   ],
   "source": [
    "# F-test between model with 2 features and null hypothesis  \n",
    "mean = sum(comp['actual'].values)/len(comp['actual'].values)\n",
    "F_stat_null = f_test(pred, [mean]*40, comp['actual'].values, 37, 39)\n",
    "F_stat_null"
   ]
  },
  {
   "cell_type": "markdown",
   "metadata": {},
   "source": [
    "But here, comparing with table value, we reject null hypothesis and confirm that model with two components performs better."
   ]
  },
  {
   "cell_type": "markdown",
   "metadata": {},
   "source": [
    "In conclusion, we choose linear model with __SIZELOG__ and __CENTRAL__ features and formula __y = sizelog*(-2.45) + central*(-1.27) + 10.21__. $R^2$ is 0.21, which is not really good, but is the best choise among other linear models based on our research."
   ]
  },
  {
   "cell_type": "code",
   "execution_count": null,
   "metadata": {},
   "outputs": [],
   "source": []
  }
 ],
 "metadata": {
  "kernelspec": {
   "display_name": "Python 3",
   "language": "python",
   "name": "python3"
  },
  "language_info": {
   "codemirror_mode": {
    "name": "ipython",
    "version": 3
   },
   "file_extension": ".py",
   "mimetype": "text/x-python",
   "name": "python",
   "nbconvert_exporter": "python",
   "pygments_lexer": "ipython3",
   "version": "3.6.5"
  }
 },
 "nbformat": 4,
 "nbformat_minor": 2
}
